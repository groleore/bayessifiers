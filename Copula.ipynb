{
 "cells": [
  {
   "cell_type": "code",
   "execution_count": 1,
   "metadata": {},
   "outputs": [],
   "source": [
    "import numpy as np\n",
    "import pandas as pd\n",
    "import matplotlib.pyplot as plt\n",
    "%matplotlib inline  \n",
    "import seaborn as sns"
   ]
  },
  {
   "cell_type": "code",
   "execution_count": 2,
   "metadata": {},
   "outputs": [],
   "source": [
    "from bayessians.discriminant import QDAClassifier, LDAClassifier\n",
    "from bayessians.naive_bayes import GaussianNaiveBayesClassifier, CustomNaiveBayesClassifier\n",
    "from bayessians.validator import ModelValidator\n",
    "from bayessians.archimedean import FrankCopulaClassifier, ClaytonCopulaClassifier, GumbelCopulaClassifier\n",
    "from bayessians.elliptical import StudentCopulaClassifier, GaussianCopulaClassifier\n",
    "from bayessians.distribution_estimator import DistributionEstimator\n",
    "from bayessians.data_splitter import DatasetSplitter"
   ]
  },
  {
   "cell_type": "code",
   "execution_count": 3,
   "metadata": {},
   "outputs": [],
   "source": [
    "def txt_to_csv(filePath):\n",
    "    m = []\n",
    "    with open(filePath, 'r') as f:\n",
    "        for line in f:\n",
    "            parsed_line = [float(a) for a in line.split()]\n",
    "            m.append(parsed_line)\n",
    "    m = np.array(m).T\n",
    "    n_features = m.shape[0] - 1\n",
    "    data = { 'X{}'.format(r + 1) : m[r] for r in range(n_features)}\n",
    "    data['Y'] = m[n_features].astype(int)\n",
    "    return pd.DataFrame.from_dict(data)"
   ]
  },
  {
   "cell_type": "code",
   "execution_count": 4,
   "metadata": {},
   "outputs": [
    {
     "data": {
      "text/plain": [
       "{'divide': 'warn', 'over': 'warn', 'under': 'ignore', 'invalid': 'warn'}"
      ]
     },
     "execution_count": 4,
     "metadata": {},
     "output_type": "execute_result"
    }
   ],
   "source": [
    "np.seterr('raise')"
   ]
  },
  {
   "cell_type": "code",
   "execution_count": 5,
   "metadata": {},
   "outputs": [],
   "source": [
    "iris = pd.read_csv('data/iris.csv')\n",
    "X_iris = iris.iloc[:,0:4]\n",
    "y_iris = iris['species'].astype('category').cat.codes\n",
    "iris_data = (X_iris, y_iris)"
   ]
  },
  {
   "cell_type": "code",
   "execution_count": 6,
   "metadata": {},
   "outputs": [],
   "source": [
    "glass = pd.read_csv('data/glass.csv')\n",
    "glass_feature_subset = ['Na', 'Mg', 'Al', 'Si', 'Ca']\n",
    "X_glass = glass[glass_feature_subset]\n",
    "y_glass = glass['Type']\n",
    "glass_data = (X_glass, y_glass)"
   ]
  },
  {
   "cell_type": "code",
   "execution_count": 7,
   "metadata": {},
   "outputs": [],
   "source": [
    "pathbased = txt_to_csv('data/pathbased.txt')\n",
    "X_pathbased = pathbased.iloc[:, 0:2]\n",
    "y_pathbased = pathbased['Y'].astype('category').cat.codes\n",
    "pathbased_data = (X_pathbased, y_pathbased)"
   ]
  },
  {
   "cell_type": "code",
   "execution_count": 8,
   "metadata": {},
   "outputs": [],
   "source": [
    "wine = pd.read_csv('data/wine.csv')\n",
    "wine_features = ['fix_acidity', 'vol_acidity', 'residual_sugar', 'free_sulfur_dioxide', 'sulphates', 'alcohol']\n",
    "X_wine = wine.iloc[:,0:11]\n",
    "y_wine = wine['quality']\n",
    "wine_data = (X_wine, y_wine)"
   ]
  },
  {
   "cell_type": "code",
   "execution_count": null,
   "metadata": {},
   "outputs": [],
   "source": [
    "plt.rcParams.update({'font.size': 16})"
   ]
  },
  {
   "cell_type": "code",
   "execution_count": null,
   "metadata": {},
   "outputs": [],
   "source": [
    "ModelValidator(GaussianCopulaClassifier, wine_data, dist='gamma', kernel='triangle').estimate_model_quality()"
   ]
  },
  {
   "cell_type": "code",
   "execution_count": null,
   "metadata": {},
   "outputs": [],
   "source": [
    "ModelValidator(StudentCopulaClassifier, wine_data, dist='fit', kernel='rectangle').estimate_model_quality()"
   ]
  },
  {
   "cell_type": "code",
   "execution_count": null,
   "metadata": {},
   "outputs": [],
   "source": [
    "ModelValidator(StudentCopulaClassifier, glass_data, dist='kernel', kernel='rectangle').estimate_model_quality()"
   ]
  },
  {
   "cell_type": "code",
   "execution_count": null,
   "metadata": {},
   "outputs": [],
   "source": [
    "ModelValidator(StudentCopulaClassifier, wine_data, dist='kernel', kernel='triangle').estimate_model_quality()"
   ]
  },
  {
   "cell_type": "code",
   "execution_count": null,
   "metadata": {},
   "outputs": [],
   "source": [
    "ModelValidator(GaussianNaiveBayesClassifier, wine_data, dist='kernel', kernel='rectangle').estimate_model_quality()"
   ]
  },
  {
   "cell_type": "code",
   "execution_count": null,
   "metadata": {},
   "outputs": [],
   "source": [
    "ModelValidator(StudentCopulaClassifier, glass_data, dist='kernel', kernel='cosinus').estimate_model_quality()"
   ]
  },
  {
   "cell_type": "code",
   "execution_count": null,
   "metadata": {},
   "outputs": [],
   "source": [
    "ModelValidator(GaussianCopulaClassifier, glass_data, dist='kernel', h='silverman').estimate_model_quality()"
   ]
  },
  {
   "cell_type": "code",
   "execution_count": null,
   "metadata": {},
   "outputs": [],
   "source": [
    "ModelValidator(GaussianCopulaClassifier, wine_data, h='silverman', kernel='quartic').estimate_model_quality()"
   ]
  },
  {
   "cell_type": "code",
   "execution_count": 9,
   "metadata": {},
   "outputs": [
    {
     "data": {
      "text/plain": [
       "(0.6214765100671141, 0.021891954940000125, 0.56, 0.060451946782733836)"
      ]
     },
     "execution_count": 9,
     "metadata": {},
     "output_type": "execute_result"
    }
   ],
   "source": [
    "ModelValidator(GaussianCopulaClassifier, glass_data, dist='genextreme', h='silverman').estimate_model_quality()"
   ]
  },
  {
   "cell_type": "code",
   "execution_count": null,
   "metadata": {},
   "outputs": [],
   "source": [
    "ds = DatasetSplitter(X_pathbased, y_pathbased)"
   ]
  },
  {
   "cell_type": "code",
   "execution_count": null,
   "metadata": {},
   "outputs": [],
   "source": [
    "from scipy.stats import shapiro\n",
    "\n",
    "split = ds.splitted_data[2]\n",
    "print(split.label)\n",
    "np.round(split.values.apply(shapiro), 2)"
   ]
  },
  {
   "cell_type": "code",
   "execution_count": null,
   "metadata": {},
   "outputs": [],
   "source": [
    "ModelValidator(GaussianCopulaClassifier, glass_data, h='skott').estimate_model_quality()"
   ]
  },
  {
   "cell_type": "code",
   "execution_count": null,
   "metadata": {},
   "outputs": [],
   "source": [
    "ModelValidator(GaussianCopulaClassifier, glass_data, h=1.5).estimate_model_quality()"
   ]
  },
  {
   "cell_type": "code",
   "execution_count": null,
   "metadata": {},
   "outputs": [],
   "source": []
  }
 ],
 "metadata": {
  "kernelspec": {
   "display_name": "Python 3",
   "language": "python",
   "name": "python3"
  },
  "language_info": {
   "codemirror_mode": {
    "name": "ipython",
    "version": 3
   },
   "file_extension": ".py",
   "mimetype": "text/x-python",
   "name": "python",
   "nbconvert_exporter": "python",
   "pygments_lexer": "ipython3",
   "version": "3.6.8"
  }
 },
 "nbformat": 4,
 "nbformat_minor": 4
}
